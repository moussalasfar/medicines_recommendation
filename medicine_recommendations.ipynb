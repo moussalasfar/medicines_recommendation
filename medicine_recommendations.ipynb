{
  "cells": [
    {
      "cell_type": "markdown",
      "metadata": {
        "id": "IyCbo7B2VF_c"
      },
      "source": [
        "**Medicine recommendation system**"
      ]
    },
    {
      "cell_type": "markdown",
      "metadata": {
        "id": "HoMyTCnMXJQK"
      },
      "source": [
        "**1. Installer les bibliothèques nécessaires**\n",
        "\n"
      ]
    },
    {
      "cell_type": "code",
      "execution_count": null,
      "metadata": {
        "colab": {
          "base_uri": "https://localhost:8080/"
        },
        "collapsed": true,
        "id": "LIBSq77-VI3T",
        "outputId": "cdc59f1f-5527-4a51-c9d0-320bb585f592"
      },
      "outputs": [
        {
          "name": "stdout",
          "output_type": "stream",
          "text": [
            "Requirement already satisfied: pandas in /usr/local/lib/python3.10/dist-packages (2.0.3)\n",
            "Requirement already satisfied: numpy in /usr/local/lib/python3.10/dist-packages (1.25.2)\n",
            "Requirement already satisfied: scikit-learn in /usr/local/lib/python3.10/dist-packages (1.2.2)\n",
            "Requirement already satisfied: flask in /usr/local/lib/python3.10/dist-packages (2.2.5)\n",
            "Requirement already satisfied: flask_sqlalchemy in /usr/local/lib/python3.10/dist-packages (3.1.1)\n",
            "Requirement already satisfied: flask_ngrok in /usr/local/lib/python3.10/dist-packages (0.0.25)\n",
            "Requirement already satisfied: python-dateutil>=2.8.2 in /usr/local/lib/python3.10/dist-packages (from pandas) (2.8.2)\n",
            "Requirement already satisfied: pytz>=2020.1 in /usr/local/lib/python3.10/dist-packages (from pandas) (2023.4)\n",
            "Requirement already satisfied: tzdata>=2022.1 in /usr/local/lib/python3.10/dist-packages (from pandas) (2024.1)\n",
            "Requirement already satisfied: scipy>=1.3.2 in /usr/local/lib/python3.10/dist-packages (from scikit-learn) (1.11.4)\n",
            "Requirement already satisfied: joblib>=1.1.1 in /usr/local/lib/python3.10/dist-packages (from scikit-learn) (1.4.2)\n",
            "Requirement already satisfied: threadpoolctl>=2.0.0 in /usr/local/lib/python3.10/dist-packages (from scikit-learn) (3.5.0)\n",
            "Requirement already satisfied: Werkzeug>=2.2.2 in /usr/local/lib/python3.10/dist-packages (from flask) (3.0.3)\n",
            "Requirement already satisfied: Jinja2>=3.0 in /usr/local/lib/python3.10/dist-packages (from flask) (3.1.4)\n",
            "Requirement already satisfied: itsdangerous>=2.0 in /usr/local/lib/python3.10/dist-packages (from flask) (2.2.0)\n",
            "Requirement already satisfied: click>=8.0 in /usr/local/lib/python3.10/dist-packages (from flask) (8.1.7)\n",
            "Requirement already satisfied: sqlalchemy>=2.0.16 in /usr/local/lib/python3.10/dist-packages (from flask_sqlalchemy) (2.0.31)\n",
            "Requirement already satisfied: requests in /usr/local/lib/python3.10/dist-packages (from flask_ngrok) (2.31.0)\n",
            "Requirement already satisfied: MarkupSafe>=2.0 in /usr/local/lib/python3.10/dist-packages (from Jinja2>=3.0->flask) (2.1.5)\n",
            "Requirement already satisfied: six>=1.5 in /usr/local/lib/python3.10/dist-packages (from python-dateutil>=2.8.2->pandas) (1.16.0)\n",
            "Requirement already satisfied: typing-extensions>=4.6.0 in /usr/local/lib/python3.10/dist-packages (from sqlalchemy>=2.0.16->flask_sqlalchemy) (4.12.2)\n",
            "Requirement already satisfied: greenlet!=0.4.17 in /usr/local/lib/python3.10/dist-packages (from sqlalchemy>=2.0.16->flask_sqlalchemy) (3.0.3)\n",
            "Requirement already satisfied: charset-normalizer<4,>=2 in /usr/local/lib/python3.10/dist-packages (from requests->flask_ngrok) (3.3.2)\n",
            "Requirement already satisfied: idna<4,>=2.5 in /usr/local/lib/python3.10/dist-packages (from requests->flask_ngrok) (3.7)\n",
            "Requirement already satisfied: urllib3<3,>=1.21.1 in /usr/local/lib/python3.10/dist-packages (from requests->flask_ngrok) (2.0.7)\n",
            "Requirement already satisfied: certifi>=2017.4.17 in /usr/local/lib/python3.10/dist-packages (from requests->flask_ngrok) (2024.7.4)\n"
          ]
        }
      ],
      "source": [
        "!pip install pandas numpy scikit-learn flask flask_sqlalchemy flask_ngrok\n"
      ]
    },
    {
      "cell_type": "markdown",
      "metadata": {
        "id": "gODo4vVSXO1P"
      },
      "source": [
        "**2. Importer les bibliothèques**"
      ]
    },
    {
      "cell_type": "code",
      "execution_count": null,
      "metadata": {
        "id": "hdpkwDFGVUNJ"
      },
      "outputs": [],
      "source": [
        "import pandas as pd\n",
        "import numpy as np\n",
        "from sklearn.preprocessing import StandardScaler, OneHotEncoder\n",
        "from sklearn.neighbors import NearestNeighbors\n",
        "from sklearn.compose import ColumnTransformer\n",
        "from sklearn.pipeline import Pipeline"
      ]
    },
    {
      "cell_type": "markdown",
      "metadata": {
        "id": "C5n-MWpQlrbK"
      },
      "source": [
        "**3. Charger et prétraiter les données**"
      ]
    },
    {
      "cell_type": "markdown",
      "metadata": {
        "id": "UmMagMj-Yd_j"
      },
      "source": [
        "****"
      ]
    },
    {
      "cell_type": "code",
      "execution_count": null,
      "metadata": {
        "colab": {
          "base_uri": "https://localhost:8080/",
          "height": 538
        },
        "collapsed": true,
        "id": "8sFDO8sbYP8a",
        "outputId": "2acae3ba-b7f0-4eb2-bc4b-0295eb7f1b6b"
      },
      "outputs": [
        {
          "data": {
            "application/vnd.google.colaboratory.intrinsic+json": {
              "summary": "{\n  \"name\": \"medicines_df\",\n  \"rows\": 11825,\n  \"fields\": [\n    {\n      \"column\": \"Medicine Name\",\n      \"properties\": {\n        \"dtype\": \"string\",\n        \"num_unique_values\": 11498,\n        \"samples\": [\n          \"Mixbiotic-AC Ear Drop\",\n          \"Druffnil Shampoo\",\n          \"Fungicip 150mg Tablet\"\n        ],\n        \"semantic_type\": \"\",\n        \"description\": \"\"\n      }\n    },\n    {\n      \"column\": \"Composition\",\n      \"properties\": {\n        \"dtype\": \"category\",\n        \"num_unique_values\": 3358,\n        \"samples\": [\n          \"Blonanserin (4mg)\",\n          \"Indomethacin (50mg)\",\n          \"Metformin  (1000mg) +  Vildagliptin (50mg)\"\n        ],\n        \"semantic_type\": \"\",\n        \"description\": \"\"\n      }\n    },\n    {\n      \"column\": \"Uses\",\n      \"properties\": {\n        \"dtype\": \"category\",\n        \"num_unique_values\": 712,\n        \"samples\": [\n          \" Hormone replacement therapy Post menopausal osteoporosis\",\n          \"Treatment of Rheumatoid arthritisTreatment of PsoriasisTreatment of CancerTreatment of Crohn\\u2019s disease\",\n          \"Treatment of Dandruff\"\n        ],\n        \"semantic_type\": \"\",\n        \"description\": \"\"\n      }\n    },\n    {\n      \"column\": \"Side_effects\",\n      \"properties\": {\n        \"dtype\": \"category\",\n        \"num_unique_values\": 1512,\n        \"samples\": [\n          \"Headache Loss of appetite Dizziness Weakness Joint pain Muscle pain\",\n          \"Bone pain Weakness Headache Rash Nausea Increased lactate dehydrogenase level in blood Vomiting Increased uric acid level in blood Oropharyngeal pain Hair loss Fatigue Diarrhea Constipation Decreased appetite Cough Breathing problems Injection site reactions pain swelling redness\",\n          \"Nausea Headache Bloating\"\n        ],\n        \"semantic_type\": \"\",\n        \"description\": \"\"\n      }\n    },\n    {\n      \"column\": \"Image URL\",\n      \"properties\": {\n        \"dtype\": \"string\",\n        \"num_unique_values\": 11740,\n        \"samples\": [\n          \"https://onemg.gumlet.io/l_watermark_346,w_480,h_480/a_ignore,w_480,h_480,c_fit,q_auto,f_auto/cropped/rc4zmux1wvjslaaxh4vy.jpg\",\n          \"https://onemg.gumlet.io/l_watermark_346,w_480,h_480/a_ignore,w_480,h_480,c_fit,q_auto,f_auto/lae9sgpkmgw0frgzsr8g.jpg\",\n          \"https://onemg.gumlet.io/l_watermark_346,w_480,h_480/a_ignore,w_480,h_480,c_fit,q_auto,f_auto/6bd6125eab5e4e8b847f467b90f06098.jpg\"\n        ],\n        \"semantic_type\": \"\",\n        \"description\": \"\"\n      }\n    },\n    {\n      \"column\": \"Manufacturer\",\n      \"properties\": {\n        \"dtype\": \"category\",\n        \"num_unique_values\": 759,\n        \"samples\": [\n          \"Jupiter Pharmaceutical Ltd\",\n          \"Rivan Pharma\",\n          \"Inga Laboratories Pvt Ltd\"\n        ],\n        \"semantic_type\": \"\",\n        \"description\": \"\"\n      }\n    },\n    {\n      \"column\": \"Excellent Review %\",\n      \"properties\": {\n        \"dtype\": \"number\",\n        \"std\": 25,\n        \"min\": 0,\n        \"max\": 100,\n        \"num_unique_values\": 85,\n        \"samples\": [\n          9,\n          22,\n          75\n        ],\n        \"semantic_type\": \"\",\n        \"description\": \"\"\n      }\n    },\n    {\n      \"column\": \"Average Review %\",\n      \"properties\": {\n        \"dtype\": \"number\",\n        \"std\": 18,\n        \"min\": 0,\n        \"max\": 88,\n        \"num_unique_values\": 79,\n        \"samples\": [\n          57,\n          56,\n          24\n        ],\n        \"semantic_type\": \"\",\n        \"description\": \"\"\n      }\n    },\n    {\n      \"column\": \"Poor Review %\",\n      \"properties\": {\n        \"dtype\": \"number\",\n        \"std\": 23,\n        \"min\": 0,\n        \"max\": 100,\n        \"num_unique_values\": 81,\n        \"samples\": [\n          12,\n          22,\n          13\n        ],\n        \"semantic_type\": \"\",\n        \"description\": \"\"\n      }\n    }\n  ]\n}",
              "type": "dataframe",
              "variable_name": "medicines_df"
            },
            "text/html": [
              "\n",
              "  <div id=\"df-85ab8050-1184-48d1-9d73-7e8a423491c5\" class=\"colab-df-container\">\n",
              "    <div>\n",
              "<style scoped>\n",
              "    .dataframe tbody tr th:only-of-type {\n",
              "        vertical-align: middle;\n",
              "    }\n",
              "\n",
              "    .dataframe tbody tr th {\n",
              "        vertical-align: top;\n",
              "    }\n",
              "\n",
              "    .dataframe thead th {\n",
              "        text-align: right;\n",
              "    }\n",
              "</style>\n",
              "<table border=\"1\" class=\"dataframe\">\n",
              "  <thead>\n",
              "    <tr style=\"text-align: right;\">\n",
              "      <th></th>\n",
              "      <th>Medicine Name</th>\n",
              "      <th>Composition</th>\n",
              "      <th>Uses</th>\n",
              "      <th>Side_effects</th>\n",
              "      <th>Image URL</th>\n",
              "      <th>Manufacturer</th>\n",
              "      <th>Excellent Review %</th>\n",
              "      <th>Average Review %</th>\n",
              "      <th>Poor Review %</th>\n",
              "    </tr>\n",
              "  </thead>\n",
              "  <tbody>\n",
              "    <tr>\n",
              "      <th>0</th>\n",
              "      <td>Avastin 400mg Injection</td>\n",
              "      <td>Bevacizumab (400mg)</td>\n",
              "      <td>Cancer of colon and rectum Non-small cell lun...</td>\n",
              "      <td>Rectal bleeding Taste change Headache Noseblee...</td>\n",
              "      <td>https://onemg.gumlet.io/l_watermark_346,w_480,...</td>\n",
              "      <td>Roche Products India Pvt Ltd</td>\n",
              "      <td>22</td>\n",
              "      <td>56</td>\n",
              "      <td>22</td>\n",
              "    </tr>\n",
              "    <tr>\n",
              "      <th>1</th>\n",
              "      <td>Augmentin 625 Duo Tablet</td>\n",
              "      <td>Amoxycillin  (500mg) +  Clavulanic Acid (125mg)</td>\n",
              "      <td>Treatment of Bacterial infections</td>\n",
              "      <td>Vomiting Nausea Diarrhea Mucocutaneous candidi...</td>\n",
              "      <td>https://onemg.gumlet.io/l_watermark_346,w_480,...</td>\n",
              "      <td>Glaxo SmithKline Pharmaceuticals Ltd</td>\n",
              "      <td>47</td>\n",
              "      <td>35</td>\n",
              "      <td>18</td>\n",
              "    </tr>\n",
              "    <tr>\n",
              "      <th>2</th>\n",
              "      <td>Azithral 500 Tablet</td>\n",
              "      <td>Azithromycin (500mg)</td>\n",
              "      <td>Treatment of Bacterial infections</td>\n",
              "      <td>Nausea Abdominal pain Diarrhea</td>\n",
              "      <td>https://onemg.gumlet.io/l_watermark_346,w_480,...</td>\n",
              "      <td>Alembic Pharmaceuticals Ltd</td>\n",
              "      <td>39</td>\n",
              "      <td>40</td>\n",
              "      <td>21</td>\n",
              "    </tr>\n",
              "    <tr>\n",
              "      <th>3</th>\n",
              "      <td>Ascoril LS Syrup</td>\n",
              "      <td>Ambroxol (30mg/5ml) + Levosalbutamol (1mg/5ml)...</td>\n",
              "      <td>Treatment of Cough with mucus</td>\n",
              "      <td>Nausea Vomiting Diarrhea Upset stomach Stomach...</td>\n",
              "      <td>https://onemg.gumlet.io/l_watermark_346,w_480,...</td>\n",
              "      <td>Glenmark Pharmaceuticals Ltd</td>\n",
              "      <td>24</td>\n",
              "      <td>41</td>\n",
              "      <td>35</td>\n",
              "    </tr>\n",
              "    <tr>\n",
              "      <th>4</th>\n",
              "      <td>Aciloc 150 Tablet</td>\n",
              "      <td>Ranitidine (150mg)</td>\n",
              "      <td>Treatment of Gastroesophageal reflux disease (...</td>\n",
              "      <td>Headache Diarrhea Gastrointestinal disturbance</td>\n",
              "      <td>https://onemg.gumlet.io/l_watermark_346,w_480,...</td>\n",
              "      <td>Cadila Pharmaceuticals Ltd</td>\n",
              "      <td>34</td>\n",
              "      <td>37</td>\n",
              "      <td>29</td>\n",
              "    </tr>\n",
              "  </tbody>\n",
              "</table>\n",
              "</div>\n",
              "    <div class=\"colab-df-buttons\">\n",
              "\n",
              "  <div class=\"colab-df-container\">\n",
              "    <button class=\"colab-df-convert\" onclick=\"convertToInteractive('df-85ab8050-1184-48d1-9d73-7e8a423491c5')\"\n",
              "            title=\"Convert this dataframe to an interactive table.\"\n",
              "            style=\"display:none;\">\n",
              "\n",
              "  <svg xmlns=\"http://www.w3.org/2000/svg\" height=\"24px\" viewBox=\"0 -960 960 960\">\n",
              "    <path d=\"M120-120v-720h720v720H120Zm60-500h600v-160H180v160Zm220 220h160v-160H400v160Zm0 220h160v-160H400v160ZM180-400h160v-160H180v160Zm440 0h160v-160H620v160ZM180-180h160v-160H180v160Zm440 0h160v-160H620v160Z\"/>\n",
              "  </svg>\n",
              "    </button>\n",
              "\n",
              "  <style>\n",
              "    .colab-df-container {\n",
              "      display:flex;\n",
              "      gap: 12px;\n",
              "    }\n",
              "\n",
              "    .colab-df-convert {\n",
              "      background-color: #E8F0FE;\n",
              "      border: none;\n",
              "      border-radius: 50%;\n",
              "      cursor: pointer;\n",
              "      display: none;\n",
              "      fill: #1967D2;\n",
              "      height: 32px;\n",
              "      padding: 0 0 0 0;\n",
              "      width: 32px;\n",
              "    }\n",
              "\n",
              "    .colab-df-convert:hover {\n",
              "      background-color: #E2EBFA;\n",
              "      box-shadow: 0px 1px 2px rgba(60, 64, 67, 0.3), 0px 1px 3px 1px rgba(60, 64, 67, 0.15);\n",
              "      fill: #174EA6;\n",
              "    }\n",
              "\n",
              "    .colab-df-buttons div {\n",
              "      margin-bottom: 4px;\n",
              "    }\n",
              "\n",
              "    [theme=dark] .colab-df-convert {\n",
              "      background-color: #3B4455;\n",
              "      fill: #D2E3FC;\n",
              "    }\n",
              "\n",
              "    [theme=dark] .colab-df-convert:hover {\n",
              "      background-color: #434B5C;\n",
              "      box-shadow: 0px 1px 3px 1px rgba(0, 0, 0, 0.15);\n",
              "      filter: drop-shadow(0px 1px 2px rgba(0, 0, 0, 0.3));\n",
              "      fill: #FFFFFF;\n",
              "    }\n",
              "  </style>\n",
              "\n",
              "    <script>\n",
              "      const buttonEl =\n",
              "        document.querySelector('#df-85ab8050-1184-48d1-9d73-7e8a423491c5 button.colab-df-convert');\n",
              "      buttonEl.style.display =\n",
              "        google.colab.kernel.accessAllowed ? 'block' : 'none';\n",
              "\n",
              "      async function convertToInteractive(key) {\n",
              "        const element = document.querySelector('#df-85ab8050-1184-48d1-9d73-7e8a423491c5');\n",
              "        const dataTable =\n",
              "          await google.colab.kernel.invokeFunction('convertToInteractive',\n",
              "                                                    [key], {});\n",
              "        if (!dataTable) return;\n",
              "\n",
              "        const docLinkHtml = 'Like what you see? Visit the ' +\n",
              "          '<a target=\"_blank\" href=https://colab.research.google.com/notebooks/data_table.ipynb>data table notebook</a>'\n",
              "          + ' to learn more about interactive tables.';\n",
              "        element.innerHTML = '';\n",
              "        dataTable['output_type'] = 'display_data';\n",
              "        await google.colab.output.renderOutput(dataTable, element);\n",
              "        const docLink = document.createElement('div');\n",
              "        docLink.innerHTML = docLinkHtml;\n",
              "        element.appendChild(docLink);\n",
              "      }\n",
              "    </script>\n",
              "  </div>\n",
              "\n",
              "\n",
              "<div id=\"df-0dde8d62-60f9-4d04-a9f7-e3aa7216131d\">\n",
              "  <button class=\"colab-df-quickchart\" onclick=\"quickchart('df-0dde8d62-60f9-4d04-a9f7-e3aa7216131d')\"\n",
              "            title=\"Suggest charts\"\n",
              "            style=\"display:none;\">\n",
              "\n",
              "<svg xmlns=\"http://www.w3.org/2000/svg\" height=\"24px\"viewBox=\"0 0 24 24\"\n",
              "     width=\"24px\">\n",
              "    <g>\n",
              "        <path d=\"M19 3H5c-1.1 0-2 .9-2 2v14c0 1.1.9 2 2 2h14c1.1 0 2-.9 2-2V5c0-1.1-.9-2-2-2zM9 17H7v-7h2v7zm4 0h-2V7h2v10zm4 0h-2v-4h2v4z\"/>\n",
              "    </g>\n",
              "</svg>\n",
              "  </button>\n",
              "\n",
              "<style>\n",
              "  .colab-df-quickchart {\n",
              "      --bg-color: #E8F0FE;\n",
              "      --fill-color: #1967D2;\n",
              "      --hover-bg-color: #E2EBFA;\n",
              "      --hover-fill-color: #174EA6;\n",
              "      --disabled-fill-color: #AAA;\n",
              "      --disabled-bg-color: #DDD;\n",
              "  }\n",
              "\n",
              "  [theme=dark] .colab-df-quickchart {\n",
              "      --bg-color: #3B4455;\n",
              "      --fill-color: #D2E3FC;\n",
              "      --hover-bg-color: #434B5C;\n",
              "      --hover-fill-color: #FFFFFF;\n",
              "      --disabled-bg-color: #3B4455;\n",
              "      --disabled-fill-color: #666;\n",
              "  }\n",
              "\n",
              "  .colab-df-quickchart {\n",
              "    background-color: var(--bg-color);\n",
              "    border: none;\n",
              "    border-radius: 50%;\n",
              "    cursor: pointer;\n",
              "    display: none;\n",
              "    fill: var(--fill-color);\n",
              "    height: 32px;\n",
              "    padding: 0;\n",
              "    width: 32px;\n",
              "  }\n",
              "\n",
              "  .colab-df-quickchart:hover {\n",
              "    background-color: var(--hover-bg-color);\n",
              "    box-shadow: 0 1px 2px rgba(60, 64, 67, 0.3), 0 1px 3px 1px rgba(60, 64, 67, 0.15);\n",
              "    fill: var(--button-hover-fill-color);\n",
              "  }\n",
              "\n",
              "  .colab-df-quickchart-complete:disabled,\n",
              "  .colab-df-quickchart-complete:disabled:hover {\n",
              "    background-color: var(--disabled-bg-color);\n",
              "    fill: var(--disabled-fill-color);\n",
              "    box-shadow: none;\n",
              "  }\n",
              "\n",
              "  .colab-df-spinner {\n",
              "    border: 2px solid var(--fill-color);\n",
              "    border-color: transparent;\n",
              "    border-bottom-color: var(--fill-color);\n",
              "    animation:\n",
              "      spin 1s steps(1) infinite;\n",
              "  }\n",
              "\n",
              "  @keyframes spin {\n",
              "    0% {\n",
              "      border-color: transparent;\n",
              "      border-bottom-color: var(--fill-color);\n",
              "      border-left-color: var(--fill-color);\n",
              "    }\n",
              "    20% {\n",
              "      border-color: transparent;\n",
              "      border-left-color: var(--fill-color);\n",
              "      border-top-color: var(--fill-color);\n",
              "    }\n",
              "    30% {\n",
              "      border-color: transparent;\n",
              "      border-left-color: var(--fill-color);\n",
              "      border-top-color: var(--fill-color);\n",
              "      border-right-color: var(--fill-color);\n",
              "    }\n",
              "    40% {\n",
              "      border-color: transparent;\n",
              "      border-right-color: var(--fill-color);\n",
              "      border-top-color: var(--fill-color);\n",
              "    }\n",
              "    60% {\n",
              "      border-color: transparent;\n",
              "      border-right-color: var(--fill-color);\n",
              "    }\n",
              "    80% {\n",
              "      border-color: transparent;\n",
              "      border-right-color: var(--fill-color);\n",
              "      border-bottom-color: var(--fill-color);\n",
              "    }\n",
              "    90% {\n",
              "      border-color: transparent;\n",
              "      border-bottom-color: var(--fill-color);\n",
              "    }\n",
              "  }\n",
              "</style>\n",
              "\n",
              "  <script>\n",
              "    async function quickchart(key) {\n",
              "      const quickchartButtonEl =\n",
              "        document.querySelector('#' + key + ' button');\n",
              "      quickchartButtonEl.disabled = true;  // To prevent multiple clicks.\n",
              "      quickchartButtonEl.classList.add('colab-df-spinner');\n",
              "      try {\n",
              "        const charts = await google.colab.kernel.invokeFunction(\n",
              "            'suggestCharts', [key], {});\n",
              "      } catch (error) {\n",
              "        console.error('Error during call to suggestCharts:', error);\n",
              "      }\n",
              "      quickchartButtonEl.classList.remove('colab-df-spinner');\n",
              "      quickchartButtonEl.classList.add('colab-df-quickchart-complete');\n",
              "    }\n",
              "    (() => {\n",
              "      let quickchartButtonEl =\n",
              "        document.querySelector('#df-0dde8d62-60f9-4d04-a9f7-e3aa7216131d button');\n",
              "      quickchartButtonEl.style.display =\n",
              "        google.colab.kernel.accessAllowed ? 'block' : 'none';\n",
              "    })();\n",
              "  </script>\n",
              "</div>\n",
              "\n",
              "    </div>\n",
              "  </div>\n"
            ],
            "text/plain": [
              "              Medicine Name  \\\n",
              "0   Avastin 400mg Injection   \n",
              "1  Augmentin 625 Duo Tablet   \n",
              "2       Azithral 500 Tablet   \n",
              "3          Ascoril LS Syrup   \n",
              "4         Aciloc 150 Tablet   \n",
              "\n",
              "                                         Composition  \\\n",
              "0                                Bevacizumab (400mg)   \n",
              "1    Amoxycillin  (500mg) +  Clavulanic Acid (125mg)   \n",
              "2                               Azithromycin (500mg)   \n",
              "3  Ambroxol (30mg/5ml) + Levosalbutamol (1mg/5ml)...   \n",
              "4                                 Ranitidine (150mg)   \n",
              "\n",
              "                                                Uses  \\\n",
              "0   Cancer of colon and rectum Non-small cell lun...   \n",
              "1                  Treatment of Bacterial infections   \n",
              "2                  Treatment of Bacterial infections   \n",
              "3                      Treatment of Cough with mucus   \n",
              "4  Treatment of Gastroesophageal reflux disease (...   \n",
              "\n",
              "                                        Side_effects  \\\n",
              "0  Rectal bleeding Taste change Headache Noseblee...   \n",
              "1  Vomiting Nausea Diarrhea Mucocutaneous candidi...   \n",
              "2                     Nausea Abdominal pain Diarrhea   \n",
              "3  Nausea Vomiting Diarrhea Upset stomach Stomach...   \n",
              "4     Headache Diarrhea Gastrointestinal disturbance   \n",
              "\n",
              "                                           Image URL  \\\n",
              "0  https://onemg.gumlet.io/l_watermark_346,w_480,...   \n",
              "1  https://onemg.gumlet.io/l_watermark_346,w_480,...   \n",
              "2  https://onemg.gumlet.io/l_watermark_346,w_480,...   \n",
              "3  https://onemg.gumlet.io/l_watermark_346,w_480,...   \n",
              "4  https://onemg.gumlet.io/l_watermark_346,w_480,...   \n",
              "\n",
              "                           Manufacturer  Excellent Review %  Average Review %  \\\n",
              "0          Roche Products India Pvt Ltd                  22                56   \n",
              "1  Glaxo SmithKline Pharmaceuticals Ltd                  47                35   \n",
              "2           Alembic Pharmaceuticals Ltd                  39                40   \n",
              "3          Glenmark Pharmaceuticals Ltd                  24                41   \n",
              "4            Cadila Pharmaceuticals Ltd                  34                37   \n",
              "\n",
              "   Poor Review %  \n",
              "0             22  \n",
              "1             18  \n",
              "2             21  \n",
              "3             35  \n",
              "4             29  "
            ]
          },
          "execution_count": 54,
          "metadata": {},
          "output_type": "execute_result"
        }
      ],
      "source": [
        "medicines_df = pd.read_csv('/content/medicines.csv')\n",
        "medicines_df.dropna(inplace=True)\n",
        "medicines_df.head()\n"
      ]
    },
    {
      "cell_type": "code",
      "execution_count": null,
      "metadata": {
        "colab": {
          "base_uri": "https://localhost:8080/"
        },
        "id": "JRuepWH2Y2ex",
        "outputId": "9cedbaef-fc0b-4235-dd5b-b9957e840d74"
      },
      "outputs": [
        {
          "data": {
            "text/plain": [
              "(11825, 9)"
            ]
          },
          "execution_count": 55,
          "metadata": {},
          "output_type": "execute_result"
        }
      ],
      "source": [
        "medicines_df.shape"
      ]
    },
    {
      "cell_type": "code",
      "execution_count": null,
      "metadata": {
        "colab": {
          "base_uri": "https://localhost:8080/"
        },
        "collapsed": true,
        "id": "dDoWyOOCY_Sq",
        "outputId": "89a7513f-2a56-411b-8f1c-4aa05f827964"
      },
      "outputs": [
        {
          "name": "stdout",
          "output_type": "stream",
          "text": [
            "<class 'pandas.core.frame.DataFrame'>\n",
            "RangeIndex: 11825 entries, 0 to 11824\n",
            "Data columns (total 9 columns):\n",
            " #   Column              Non-Null Count  Dtype \n",
            "---  ------              --------------  ----- \n",
            " 0   Medicine Name       11825 non-null  object\n",
            " 1   Composition         11825 non-null  object\n",
            " 2   Uses                11825 non-null  object\n",
            " 3   Side_effects        11825 non-null  object\n",
            " 4   Image URL           11825 non-null  object\n",
            " 5   Manufacturer        11825 non-null  object\n",
            " 6   Excellent Review %  11825 non-null  int64 \n",
            " 7   Average Review %    11825 non-null  int64 \n",
            " 8   Poor Review %       11825 non-null  int64 \n",
            "dtypes: int64(3), object(6)\n",
            "memory usage: 831.6+ KB\n"
          ]
        }
      ],
      "source": [
        "medicines_df.info() # no null values"
      ]
    },
    {
      "cell_type": "markdown",
      "metadata": {
        "id": "Q0qBSHPH3KkE"
      },
      "source": [
        "**Supprimer les lignes avec des valeurs manquantes**"
      ]
    },
    {
      "cell_type": "code",
      "execution_count": null,
      "metadata": {
        "id": "NpeYKjFRz9_F"
      },
      "outputs": [],
      "source": [
        "medicines_df.dropna(subset=['Medicine Name', 'Uses', 'Side_effects', 'Manufacturer', 'Excellent Review %', 'Average Review %', 'Poor Review %'], inplace=True)"
      ]
    },
    {
      "cell_type": "markdown",
      "metadata": {
        "id": "ATOT2DD-mMtx"
      },
      "source": [
        "**4. Préparer le pipeline de transformation et le modèle KNN**"
      ]
    },
    {
      "cell_type": "code",
      "execution_count": null,
      "metadata": {
        "id": "V2vNFGr_ioUQ"
      },
      "outputs": [],
      "source": [
        "categorical_columns = ['Uses', 'Side_effects', 'Manufacturer']\n",
        "numerical_columns = ['Excellent Review %', 'Average Review %', 'Poor Review %']\n",
        "all_columns = ['Medicine Name'] + categorical_columns + numerical_columns\n",
        "medicines_df = medicines_df[all_columns]"
      ]
    },
    {
      "cell_type": "code",
      "execution_count": null,
      "metadata": {
        "colab": {
          "base_uri": "https://localhost:8080/",
          "height": 116
        },
        "collapsed": true,
        "id": "vjFTWkRZlxom",
        "outputId": "3100d82c-6cf7-48e3-f1b3-496fa6f43043"
      },
      "outputs": [
        {
          "data": {
            "text/html": [
              "<style>#sk-container-id-9 {color: black;background-color: white;}#sk-container-id-9 pre{padding: 0;}#sk-container-id-9 div.sk-toggleable {background-color: white;}#sk-container-id-9 label.sk-toggleable__label {cursor: pointer;display: block;width: 100%;margin-bottom: 0;padding: 0.3em;box-sizing: border-box;text-align: center;}#sk-container-id-9 label.sk-toggleable__label-arrow:before {content: \"▸\";float: left;margin-right: 0.25em;color: #696969;}#sk-container-id-9 label.sk-toggleable__label-arrow:hover:before {color: black;}#sk-container-id-9 div.sk-estimator:hover label.sk-toggleable__label-arrow:before {color: black;}#sk-container-id-9 div.sk-toggleable__content {max-height: 0;max-width: 0;overflow: hidden;text-align: left;background-color: #f0f8ff;}#sk-container-id-9 div.sk-toggleable__content pre {margin: 0.2em;color: black;border-radius: 0.25em;background-color: #f0f8ff;}#sk-container-id-9 input.sk-toggleable__control:checked~div.sk-toggleable__content {max-height: 200px;max-width: 100%;overflow: auto;}#sk-container-id-9 input.sk-toggleable__control:checked~label.sk-toggleable__label-arrow:before {content: \"▾\";}#sk-container-id-9 div.sk-estimator input.sk-toggleable__control:checked~label.sk-toggleable__label {background-color: #d4ebff;}#sk-container-id-9 div.sk-label input.sk-toggleable__control:checked~label.sk-toggleable__label {background-color: #d4ebff;}#sk-container-id-9 input.sk-hidden--visually {border: 0;clip: rect(1px 1px 1px 1px);clip: rect(1px, 1px, 1px, 1px);height: 1px;margin: -1px;overflow: hidden;padding: 0;position: absolute;width: 1px;}#sk-container-id-9 div.sk-estimator {font-family: monospace;background-color: #f0f8ff;border: 1px dotted black;border-radius: 0.25em;box-sizing: border-box;margin-bottom: 0.5em;}#sk-container-id-9 div.sk-estimator:hover {background-color: #d4ebff;}#sk-container-id-9 div.sk-parallel-item::after {content: \"\";width: 100%;border-bottom: 1px solid gray;flex-grow: 1;}#sk-container-id-9 div.sk-label:hover label.sk-toggleable__label {background-color: #d4ebff;}#sk-container-id-9 div.sk-serial::before {content: \"\";position: absolute;border-left: 1px solid gray;box-sizing: border-box;top: 0;bottom: 0;left: 50%;z-index: 0;}#sk-container-id-9 div.sk-serial {display: flex;flex-direction: column;align-items: center;background-color: white;padding-right: 0.2em;padding-left: 0.2em;position: relative;}#sk-container-id-9 div.sk-item {position: relative;z-index: 1;}#sk-container-id-9 div.sk-parallel {display: flex;align-items: stretch;justify-content: center;background-color: white;position: relative;}#sk-container-id-9 div.sk-item::before, #sk-container-id-9 div.sk-parallel-item::before {content: \"\";position: absolute;border-left: 1px solid gray;box-sizing: border-box;top: 0;bottom: 0;left: 50%;z-index: -1;}#sk-container-id-9 div.sk-parallel-item {display: flex;flex-direction: column;z-index: 1;position: relative;background-color: white;}#sk-container-id-9 div.sk-parallel-item:first-child::after {align-self: flex-end;width: 50%;}#sk-container-id-9 div.sk-parallel-item:last-child::after {align-self: flex-start;width: 50%;}#sk-container-id-9 div.sk-parallel-item:only-child::after {width: 0;}#sk-container-id-9 div.sk-dashed-wrapped {border: 1px dashed gray;margin: 0 0.4em 0.5em 0.4em;box-sizing: border-box;padding-bottom: 0.4em;background-color: white;}#sk-container-id-9 div.sk-label label {font-family: monospace;font-weight: bold;display: inline-block;line-height: 1.2em;}#sk-container-id-9 div.sk-label-container {text-align: center;}#sk-container-id-9 div.sk-container {/* jupyter's `normalize.less` sets `[hidden] { display: none; }` but bootstrap.min.css set `[hidden] { display: none !important; }` so we also need the `!important` here to be able to override the default hidden behavior on the sphinx rendered scikit-learn.org. See: https://github.com/scikit-learn/scikit-learn/issues/21755 */display: inline-block !important;position: relative;}#sk-container-id-9 div.sk-text-repr-fallback {display: none;}</style><div id=\"sk-container-id-9\" class=\"sk-top-container\"><div class=\"sk-text-repr-fallback\"><pre>ColumnTransformer(transformers=[(&#x27;cat&#x27;, OneHotEncoder(handle_unknown=&#x27;ignore&#x27;),\n",
              "                                 [&#x27;Uses&#x27;, &#x27;Side_effects&#x27;, &#x27;Manufacturer&#x27;]),\n",
              "                                (&#x27;num&#x27;, StandardScaler(),\n",
              "                                 [&#x27;Excellent Review %&#x27;, &#x27;Average Review %&#x27;,\n",
              "                                  &#x27;Poor Review %&#x27;])])</pre><b>In a Jupyter environment, please rerun this cell to show the HTML representation or trust the notebook. <br />On GitHub, the HTML representation is unable to render, please try loading this page with nbviewer.org.</b></div><div class=\"sk-container\" hidden><div class=\"sk-item sk-dashed-wrapped\"><div class=\"sk-label-container\"><div class=\"sk-label sk-toggleable\"><input class=\"sk-toggleable__control sk-hidden--visually\" id=\"sk-estimator-id-25\" type=\"checkbox\" ><label for=\"sk-estimator-id-25\" class=\"sk-toggleable__label sk-toggleable__label-arrow\">ColumnTransformer</label><div class=\"sk-toggleable__content\"><pre>ColumnTransformer(transformers=[(&#x27;cat&#x27;, OneHotEncoder(handle_unknown=&#x27;ignore&#x27;),\n",
              "                                 [&#x27;Uses&#x27;, &#x27;Side_effects&#x27;, &#x27;Manufacturer&#x27;]),\n",
              "                                (&#x27;num&#x27;, StandardScaler(),\n",
              "                                 [&#x27;Excellent Review %&#x27;, &#x27;Average Review %&#x27;,\n",
              "                                  &#x27;Poor Review %&#x27;])])</pre></div></div></div><div class=\"sk-parallel\"><div class=\"sk-parallel-item\"><div class=\"sk-item\"><div class=\"sk-label-container\"><div class=\"sk-label sk-toggleable\"><input class=\"sk-toggleable__control sk-hidden--visually\" id=\"sk-estimator-id-26\" type=\"checkbox\" ><label for=\"sk-estimator-id-26\" class=\"sk-toggleable__label sk-toggleable__label-arrow\">cat</label><div class=\"sk-toggleable__content\"><pre>[&#x27;Uses&#x27;, &#x27;Side_effects&#x27;, &#x27;Manufacturer&#x27;]</pre></div></div></div><div class=\"sk-serial\"><div class=\"sk-item\"><div class=\"sk-estimator sk-toggleable\"><input class=\"sk-toggleable__control sk-hidden--visually\" id=\"sk-estimator-id-27\" type=\"checkbox\" ><label for=\"sk-estimator-id-27\" class=\"sk-toggleable__label sk-toggleable__label-arrow\">OneHotEncoder</label><div class=\"sk-toggleable__content\"><pre>OneHotEncoder(handle_unknown=&#x27;ignore&#x27;)</pre></div></div></div></div></div></div><div class=\"sk-parallel-item\"><div class=\"sk-item\"><div class=\"sk-label-container\"><div class=\"sk-label sk-toggleable\"><input class=\"sk-toggleable__control sk-hidden--visually\" id=\"sk-estimator-id-28\" type=\"checkbox\" ><label for=\"sk-estimator-id-28\" class=\"sk-toggleable__label sk-toggleable__label-arrow\">num</label><div class=\"sk-toggleable__content\"><pre>[&#x27;Excellent Review %&#x27;, &#x27;Average Review %&#x27;, &#x27;Poor Review %&#x27;]</pre></div></div></div><div class=\"sk-serial\"><div class=\"sk-item\"><div class=\"sk-estimator sk-toggleable\"><input class=\"sk-toggleable__control sk-hidden--visually\" id=\"sk-estimator-id-29\" type=\"checkbox\" ><label for=\"sk-estimator-id-29\" class=\"sk-toggleable__label sk-toggleable__label-arrow\">StandardScaler</label><div class=\"sk-toggleable__content\"><pre>StandardScaler()</pre></div></div></div></div></div></div></div></div></div></div>"
            ],
            "text/plain": [
              "ColumnTransformer(transformers=[('cat', OneHotEncoder(handle_unknown='ignore'),\n",
              "                                 ['Uses', 'Side_effects', 'Manufacturer']),\n",
              "                                ('num', StandardScaler(),\n",
              "                                 ['Excellent Review %', 'Average Review %',\n",
              "                                  'Poor Review %'])])"
            ]
          },
          "execution_count": 59,
          "metadata": {},
          "output_type": "execute_result"
        }
      ],
      "source": [
        "preprocessor = ColumnTransformer(\n",
        "    transformers=[\n",
        "        ('cat', OneHotEncoder(handle_unknown='ignore'), categorical_columns),\n",
        "        ('num', StandardScaler(), numerical_columns)\n",
        "    ])\n",
        "preprocessor.fit(medicines_df[categorical_columns + numerical_columns])"
      ]
    },
    {
      "cell_type": "code",
      "execution_count": null,
      "metadata": {
        "id": "AhqNjbJ_yyk1"
      },
      "outputs": [],
      "source": [
        "X = preprocessor.transform(medicines_df[categorical_columns + numerical_columns])"
      ]
    },
    {
      "cell_type": "markdown",
      "metadata": {
        "id": "qp8sCIFR7QYh"
      },
      "source": [
        "**Création et entraînement du modèle KNN**"
      ]
    },
    {
      "cell_type": "code",
      "execution_count": null,
      "metadata": {
        "colab": {
          "base_uri": "https://localhost:8080/",
          "height": 74
        },
        "collapsed": true,
        "id": "oJ7U6h3_8DEU",
        "outputId": "01547245-6930-41be-eb58-0322809fc74c"
      },
      "outputs": [
        {
          "data": {
            "text/html": [
              "<style>#sk-container-id-10 {color: black;background-color: white;}#sk-container-id-10 pre{padding: 0;}#sk-container-id-10 div.sk-toggleable {background-color: white;}#sk-container-id-10 label.sk-toggleable__label {cursor: pointer;display: block;width: 100%;margin-bottom: 0;padding: 0.3em;box-sizing: border-box;text-align: center;}#sk-container-id-10 label.sk-toggleable__label-arrow:before {content: \"▸\";float: left;margin-right: 0.25em;color: #696969;}#sk-container-id-10 label.sk-toggleable__label-arrow:hover:before {color: black;}#sk-container-id-10 div.sk-estimator:hover label.sk-toggleable__label-arrow:before {color: black;}#sk-container-id-10 div.sk-toggleable__content {max-height: 0;max-width: 0;overflow: hidden;text-align: left;background-color: #f0f8ff;}#sk-container-id-10 div.sk-toggleable__content pre {margin: 0.2em;color: black;border-radius: 0.25em;background-color: #f0f8ff;}#sk-container-id-10 input.sk-toggleable__control:checked~div.sk-toggleable__content {max-height: 200px;max-width: 100%;overflow: auto;}#sk-container-id-10 input.sk-toggleable__control:checked~label.sk-toggleable__label-arrow:before {content: \"▾\";}#sk-container-id-10 div.sk-estimator input.sk-toggleable__control:checked~label.sk-toggleable__label {background-color: #d4ebff;}#sk-container-id-10 div.sk-label input.sk-toggleable__control:checked~label.sk-toggleable__label {background-color: #d4ebff;}#sk-container-id-10 input.sk-hidden--visually {border: 0;clip: rect(1px 1px 1px 1px);clip: rect(1px, 1px, 1px, 1px);height: 1px;margin: -1px;overflow: hidden;padding: 0;position: absolute;width: 1px;}#sk-container-id-10 div.sk-estimator {font-family: monospace;background-color: #f0f8ff;border: 1px dotted black;border-radius: 0.25em;box-sizing: border-box;margin-bottom: 0.5em;}#sk-container-id-10 div.sk-estimator:hover {background-color: #d4ebff;}#sk-container-id-10 div.sk-parallel-item::after {content: \"\";width: 100%;border-bottom: 1px solid gray;flex-grow: 1;}#sk-container-id-10 div.sk-label:hover label.sk-toggleable__label {background-color: #d4ebff;}#sk-container-id-10 div.sk-serial::before {content: \"\";position: absolute;border-left: 1px solid gray;box-sizing: border-box;top: 0;bottom: 0;left: 50%;z-index: 0;}#sk-container-id-10 div.sk-serial {display: flex;flex-direction: column;align-items: center;background-color: white;padding-right: 0.2em;padding-left: 0.2em;position: relative;}#sk-container-id-10 div.sk-item {position: relative;z-index: 1;}#sk-container-id-10 div.sk-parallel {display: flex;align-items: stretch;justify-content: center;background-color: white;position: relative;}#sk-container-id-10 div.sk-item::before, #sk-container-id-10 div.sk-parallel-item::before {content: \"\";position: absolute;border-left: 1px solid gray;box-sizing: border-box;top: 0;bottom: 0;left: 50%;z-index: -1;}#sk-container-id-10 div.sk-parallel-item {display: flex;flex-direction: column;z-index: 1;position: relative;background-color: white;}#sk-container-id-10 div.sk-parallel-item:first-child::after {align-self: flex-end;width: 50%;}#sk-container-id-10 div.sk-parallel-item:last-child::after {align-self: flex-start;width: 50%;}#sk-container-id-10 div.sk-parallel-item:only-child::after {width: 0;}#sk-container-id-10 div.sk-dashed-wrapped {border: 1px dashed gray;margin: 0 0.4em 0.5em 0.4em;box-sizing: border-box;padding-bottom: 0.4em;background-color: white;}#sk-container-id-10 div.sk-label label {font-family: monospace;font-weight: bold;display: inline-block;line-height: 1.2em;}#sk-container-id-10 div.sk-label-container {text-align: center;}#sk-container-id-10 div.sk-container {/* jupyter's `normalize.less` sets `[hidden] { display: none; }` but bootstrap.min.css set `[hidden] { display: none !important; }` so we also need the `!important` here to be able to override the default hidden behavior on the sphinx rendered scikit-learn.org. See: https://github.com/scikit-learn/scikit-learn/issues/21755 */display: inline-block !important;position: relative;}#sk-container-id-10 div.sk-text-repr-fallback {display: none;}</style><div id=\"sk-container-id-10\" class=\"sk-top-container\"><div class=\"sk-text-repr-fallback\"><pre>NearestNeighbors(metric=&#x27;euclidean&#x27;)</pre><b>In a Jupyter environment, please rerun this cell to show the HTML representation or trust the notebook. <br />On GitHub, the HTML representation is unable to render, please try loading this page with nbviewer.org.</b></div><div class=\"sk-container\" hidden><div class=\"sk-item\"><div class=\"sk-estimator sk-toggleable\"><input class=\"sk-toggleable__control sk-hidden--visually\" id=\"sk-estimator-id-30\" type=\"checkbox\" checked><label for=\"sk-estimator-id-30\" class=\"sk-toggleable__label sk-toggleable__label-arrow\">NearestNeighbors</label><div class=\"sk-toggleable__content\"><pre>NearestNeighbors(metric=&#x27;euclidean&#x27;)</pre></div></div></div></div></div>"
            ],
            "text/plain": [
              "NearestNeighbors(metric='euclidean')"
            ]
          },
          "execution_count": 61,
          "metadata": {},
          "output_type": "execute_result"
        }
      ],
      "source": [
        "knn = NearestNeighbors(n_neighbors=5, metric='euclidean')\n",
        "knn.fit(X)"
      ]
    },
    {
      "cell_type": "markdown",
      "metadata": {
        "id": "uj75g2s68OYw"
      },
      "source": [
        "**5. Fonction de recommandation**"
      ]
    },
    {
      "cell_type": "code",
      "execution_count": null,
      "metadata": {
        "id": "tk-Q0GSN8QZo"
      },
      "outputs": [],
      "source": [
        "def recommend_medicines(input_data):\n",
        "    # Convertir les données d'entrée en DataFrame\n",
        "    input_df = pd.DataFrame([input_data], columns=categorical_columns + numerical_columns)\n",
        "\n",
        "    # Transformer les données d'entrée\n",
        "    input_data_processed = preprocessor.transform(input_df)\n",
        "\n",
        "    # Utilisation du modèle KNN pour trouver les médicaments les plus proches\n",
        "    distances, indices = knn.kneighbors(input_data_processed)\n",
        "\n",
        "    # Utiliser les indices pour récupérer les médicaments du DataFrame original\n",
        "    nearest_medicines = medicines_df.iloc[indices[0]]\n",
        "    return nearest_medicines"
      ]
    },
    {
      "cell_type": "markdown",
      "metadata": {
        "id": "XdILNYub8oU3"
      },
      "source": [
        "**6. Tester la fonction de recommandation**"
      ]
    },
    {
      "cell_type": "code",
      "execution_count": null,
      "metadata": {
        "colab": {
          "base_uri": "https://localhost:8080/"
        },
        "collapsed": true,
        "id": "1sj4h3XA8qOZ",
        "outputId": "6511733f-11d8-4fea-a50c-d20e21a446bc"
      },
      "outputs": [
        {
          "name": "stdout",
          "output_type": "stream",
          "text": [
            "Médicaments recommandés :\n",
            "Nom du médicament: Avastin 400mg Injection\n",
            "Utilisations:  Cancer of colon and rectum Non-small cell lung cancer Kidney cancer Brain tumor Ovarian cancer Cervical cancer\n",
            "Effets secondaires: Rectal bleeding Taste change Headache Nosebleeds Back pain Dry skin High blood pressure Protein in urine Inflammation of the nose\n",
            "Fabricant: Roche Products India Pvt Ltd\n",
            "Excellente évaluation : 22%\n",
            "Évaluation moyenne : 56%\n",
            "Mauvaise évaluation : 22%\n",
            "------------------------------\n",
            "Nom du médicament: Perjeta 420mg Injection\n",
            "Utilisations:  Breast cancer\n",
            "Effets secondaires: Diarrhea Hair loss Feeling sick Rash Stomach inflammation Decreased blood cells red cells white cells and platelets Muscle pain Cough Heartburn Breathlessness Dizziness Fatigue\n",
            "Fabricant: Roche Products India Pvt Ltd\n",
            "Excellente évaluation : 0%\n",
            "Évaluation moyenne : 56%\n",
            "Mauvaise évaluation : 44%\n",
            "------------------------------\n",
            "Nom du médicament: Aztolet  20 Tablet\n",
            "Utilisations:  Heart attack prevention and high cholesterol\n",
            "Effets secondaires: Stomach pain Diarrhea Indigestion Constipation Headache Dizziness Muscle pain Weakness Increased glucose level in blood Increased liver enzymes\n",
            "Fabricant: Sun Pharmaceutical Industries Ltd\n",
            "Excellente évaluation : 22%\n",
            "Évaluation moyenne : 56%\n",
            "Mauvaise évaluation : 22%\n",
            "------------------------------\n",
            "Nom du médicament: Allrite Tablet\n",
            "Utilisations: Treatment of Allergic conditions\n",
            "Effets secondaires: Sleepiness Fatigue Dryness in mouth Headache Vomiting Nasopharyngitis inflammation of the throat and nasal passages\n",
            "Fabricant: Zydus Cadila\n",
            "Excellente évaluation : 22%\n",
            "Évaluation moyenne : 56%\n",
            "Mauvaise évaluation : 22%\n",
            "------------------------------\n",
            "Nom du médicament: Apxenta 30mg Tablet\n",
            "Utilisations:  Plaque psoriasis\n",
            "Effets secondaires: Diarrhea Nausea Vomiting\n",
            "Fabricant: Ajanta Pharma Ltd\n",
            "Excellente évaluation : 22%\n",
            "Évaluation moyenne : 56%\n",
            "Mauvaise évaluation : 22%\n",
            "------------------------------\n"
          ]
        }
      ],
      "source": [
        "# Exemple d'utilisation de la fonction de recommandation\n",
        "input_data = ['Cancer', 'nausea', 'Roche Products India Pvt Ltd', 22, 56, 22]\n",
        "recommended_medicines = recommend_medicines(input_data)\n",
        "\n",
        "# Afficher les résultats des recommandations\n",
        "print(\"Médicaments recommandés :\")\n",
        "for idx, row in recommended_medicines.iterrows():\n",
        "    print(f\"Nom du médicament: {row['Medicine Name']}\")\n",
        "    print(f\"Utilisations: {row['Uses']}\")\n",
        "    print(f\"Effets secondaires: {row['Side_effects']}\")\n",
        "    print(f\"Fabricant: {row['Manufacturer']}\")\n",
        "    print(f\"Excellente évaluation : {row['Excellent Review %']}%\")\n",
        "    print(f\"Évaluation moyenne : {row['Average Review %']}%\")\n",
        "    print(f\"Mauvaise évaluation : {row['Poor Review %']}%\")\n",
        "    print(\"-\" * 30)\n"
      ]
    }
  ],
  "metadata": {
    "colab": {
      "provenance": []
    },
    "kernelspec": {
      "display_name": "Python 3",
      "name": "python3"
    },
    "language_info": {
      "name": "python"
    }
  },
  "nbformat": 4,
  "nbformat_minor": 0
}
